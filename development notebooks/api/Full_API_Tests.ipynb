{
 "cells": [
  {
   "cell_type": "markdown",
   "metadata": {},
   "source": [
    "# API End Point Tests for After New Release"
   ]
  },
  {
   "cell_type": "code",
   "execution_count": 9,
   "metadata": {},
   "outputs": [],
   "source": [
    "import requests\n",
    "fairscape_host = \"https://fairscape.net/\""
   ]
  },
  {
   "cell_type": "markdown",
   "metadata": {},
   "source": [
    "## User Validation"
   ]
  },
  {
   "cell_type": "code",
   "execution_count": 2,
   "metadata": {},
   "outputs": [
    {
     "data": {
      "text/plain": [
       "{'created': {'@id': 'ark:99999/test-justin2',\n",
       "  '@type': 'Person',\n",
       "  'name': 'Justin Niestroy'}}"
      ]
     },
     "execution_count": 2,
     "metadata": {},
     "output_type": "execute_result"
    }
   ],
   "source": [
    "import json\n",
    "user1_data = {\n",
    "\t\"@id\": \"ark:99999/test-justin2\",\n",
    "\t\"name\": \"Justin Niestroy\",\n",
    "\t\"type\": \"Person\",\n",
    "\t\"email\": \"testuser1@example.org\",\n",
    "\t\"password\": \"test1\",\n",
    "    \"description\":\"Fake Person\"\n",
    "\t}\n",
    "create_user1 = requests.post(fairscape_host + \"user\", data=json.dumps(user1_data))\n",
    "create_user1.json()"
   ]
  },
  {
   "cell_type": "code",
   "execution_count": 5,
   "metadata": {},
   "outputs": [
    {
     "data": {
      "text/plain": [
       "{'@id': 'ark:99999/test-justin2',\n",
       " '@type': 'Person',\n",
       " '@context': {'@vocab': 'https://schema.org/', 'evi': 'https://w3id.org/EVI#'},\n",
       " 'url': None,\n",
       " 'organizations': [],\n",
       " 'projects': [],\n",
       " 'datasets': [],\n",
       " 'downloads': [],\n",
       " 'rocrates': [],\n",
       " 'software': [],\n",
       " 'computations': [],\n",
       " 'evidencegraphs': [],\n",
       " 'name': 'Justin Niestroy',\n",
       " 'email': 'testuser1@example.org',\n",
       " 'password': 'test1'}"
      ]
     },
     "execution_count": 5,
     "metadata": {},
     "output_type": "execute_result"
    }
   ],
   "source": [
    "requests.get(fairscape_host + 'user/' + create_user1.json()['created']['@id']).json()"
   ]
  },
  {
   "cell_type": "code",
   "execution_count": 7,
   "metadata": {},
   "outputs": [
    {
     "data": {
      "text/plain": [
       "'https://fairscape.net/ark:99999/test-justin2'"
      ]
     },
     "execution_count": 7,
     "metadata": {},
     "output_type": "execute_result"
    }
   ],
   "source": [
    "fairscape_host + create_user1.json()['created']['@id']"
   ]
  },
  {
   "cell_type": "markdown",
   "metadata": {},
   "source": [
    "### Validate that the linnk works and resolves to html"
   ]
  },
  {
   "cell_type": "markdown",
   "metadata": {},
   "source": [
    "## Software"
   ]
  },
  {
   "cell_type": "code",
   "execution_count": 6,
   "metadata": {},
   "outputs": [
    {
     "data": {
      "text/plain": [
       "{'created': {'@id': 'ark:99999/test-software',\n",
       "  '@type': 'evi:Software',\n",
       "  'name': 'test software',\n",
       "  'description': 'Fake Des',\n",
       "  'author': 'ark:99999/test-justin2'}}"
      ]
     },
     "execution_count": 6,
     "metadata": {},
     "output_type": "execute_result"
    }
   ],
   "source": [
    "import requests, json\n",
    "\n",
    "software_data = {\n",
    "\t\"@id\": \"ark:99999/test-software\",\n",
    "\t\"@type\": \"evi:Software\",\n",
    "\t\"name\": \"test software\",\n",
    "\t\"owner\": \"ark:99999/test-justin2\",\n",
    "\t\"author\": \"ark:99999/test-justin2\",\n",
    "    \"downloadUrl\": \"some url\",\n",
    "    \"citation\": \"some citation\",\n",
    "\t\"evi:usedBy\": [],\n",
    "    \"description\":\"Fake Des\",\n",
    "    'keywords':['test']\n",
    "}\n",
    "\n",
    "\n",
    "software_create = requests.post(fairscape_host + f\"software\", data=json.dumps(software_data))\n",
    "software_create.json()"
   ]
  },
  {
   "cell_type": "code",
   "execution_count": 7,
   "metadata": {},
   "outputs": [
    {
     "data": {
      "text/plain": [
       "{'@id': 'ark:99999/test-software',\n",
       " '@type': 'evi:Software',\n",
       " 'name': 'test software',\n",
       " '@context': {'@vocab': 'https://schema.org/', 'evi': 'https://w3id.org/EVI#'},\n",
       " 'url': None,\n",
       " 'description': 'Fake Des',\n",
       " 'license': ' https://creativecommons.org/licenses/by/4.0/',\n",
       " 'keywords': ['test'],\n",
       " 'published': True,\n",
       " 'owner': 'ark:99999/test-justin2',\n",
       " 'author': 'ark:99999/test-justin2',\n",
       " 'citation': None,\n",
       " 'dateCreated': '2024-05-09T12:50:12.264000',\n",
       " 'distribution': [],\n",
       " 'usedBy': [],\n",
       " 'sourceOrganization': None,\n",
       " 'includedInDataCatalog': None}"
      ]
     },
     "execution_count": 7,
     "metadata": {},
     "output_type": "execute_result"
    }
   ],
   "source": [
    "requests.get(fairscape_host + 'software/' + software_create.json()['created']['@id']).json()"
   ]
  },
  {
   "cell_type": "code",
   "execution_count": 10,
   "metadata": {},
   "outputs": [
    {
     "data": {
      "text/plain": [
       "'https://fairscape.net/ark:99999/test-software'"
      ]
     },
     "execution_count": 10,
     "metadata": {},
     "output_type": "execute_result"
    }
   ],
   "source": [
    "fairscape_host + software_create.json()['created']['@id']"
   ]
  },
  {
   "cell_type": "markdown",
   "metadata": {},
   "source": [
    "## Dataset"
   ]
  },
  {
   "cell_type": "code",
   "execution_count": 14,
   "metadata": {},
   "outputs": [
    {
     "data": {
      "text/plain": [
       "{'created': {'@id': 'ark:99999/test-dataset',\n",
       "  '@type': 'evi:Dataset',\n",
       "  'name': 'test dataset'}}"
      ]
     },
     "execution_count": 14,
     "metadata": {},
     "output_type": "execute_result"
    }
   ],
   "source": [
    "# create dataset\n",
    "dataset_data = {\n",
    "\t\"@id\": \"ark:99999/test-dataset\",\n",
    "\t\"@type\": \"evi:Dataset\",\n",
    "\t\"name\": \"test dataset\",\n",
    "\t\"owner\": 'ark:99999/test-justin2',\n",
    "    'description':'Test Dataset',\n",
    "    'keywords':['test datatset'],\n",
    "    'generatedBy':'ark:99999/test-software'\n",
    "}\n",
    "\n",
    "\n",
    "dataset_create = requests.post(fairscape_host + f\"dataset\", data=json.dumps(dataset_data))\n",
    "dataset_create.json()"
   ]
  },
  {
   "cell_type": "code",
   "execution_count": 15,
   "metadata": {},
   "outputs": [
    {
     "data": {
      "text/plain": [
       "{'@id': 'ark:99999/test-dataset',\n",
       " '@type': 'evi:Dataset',\n",
       " '@context': {'@vocab': 'https://schema.org/', 'evi': 'https://w3id.org/EVI#'},\n",
       " 'url': None,\n",
       " 'license': ' https://creativecommons.org/licenses/by/4.0/',\n",
       " 'keywords': ['test datatset'],\n",
       " 'published': True,\n",
       " 'distribution': [],\n",
       " 'includedInDataCatalog': None,\n",
       " 'sourceOrganization': None,\n",
       " 'author': None,\n",
       " 'dateCreated': '2024-05-09T13:33:07.141000',\n",
       " 'dateModified': '2024-05-09T13:33:07.141000',\n",
       " 'usedBy': [],\n",
       " 'generatedBy': None,\n",
       " 'schema': '',\n",
       " 'name': 'test dataset',\n",
       " 'description': 'Test Dataset',\n",
       " 'owner': 'ark:99999/test-justin2'}"
      ]
     },
     "execution_count": 15,
     "metadata": {},
     "output_type": "execute_result"
    }
   ],
   "source": [
    "requests.get(fairscape_host + 'dataset/' + dataset_create.json()['created']['@id']).json()"
   ]
  },
  {
   "cell_type": "code",
   "execution_count": 16,
   "metadata": {},
   "outputs": [
    {
     "data": {
      "text/plain": [
       "'https://fairscape.net/ark:99999/test-dataset'"
      ]
     },
     "execution_count": 16,
     "metadata": {},
     "output_type": "execute_result"
    }
   ],
   "source": [
    "fairscape_host + dataset_create.json()['created']['@id']"
   ]
  },
  {
   "cell_type": "markdown",
   "metadata": {},
   "source": [
    "## Schema "
   ]
  },
  {
   "cell_type": "code",
   "execution_count": 17,
   "metadata": {},
   "outputs": [
    {
     "name": "stdout",
     "output_type": "stream",
     "text": [
      "201\n",
      "b'{\"created\":{\"@id\":\"ark:59852/schema-test1\",\"@type\":\"evi:Schema\",\"name\":\"CM4AI APMS Gene Node Attributes Schema\"}}'\n"
     ]
    }
   ],
   "source": [
    "s3 = {\n",
    "  \"@id\": \"ark:59852/schema-test1\",\n",
    "  \"@context\": {\n",
    "      \"@vocab\": \"https://schema.org/\",\n",
    "      \"EVI\": \"https://w3id.org/EVI#\"\n",
    "    },\n",
    "  \"@type\": \"EVI:Schema\",\n",
    "  \"name\": \"CM4AI APMS Gene Node Attributes Schema\",\n",
    "  \"description\": \"Schema for APMS embeddings, derived from running node2vec on protien-protien interaction networks obtained from APMS experiments\",\n",
    "  \"properties\": {\n",
    "    \"name\": {\n",
    "      \"description\": \"Gene Symbol for APMS Data\",\n",
    "      \"index\": 0,\n",
    "      \"valueURL\": \"http://edamontology.org/data_1026\",\n",
    "      \"type\": \"string\",\n",
    "      \"pattern\": \"^[A-Za-z0-9/-]*$\"\n",
    "    },\n",
    "    \"represents\": {\n",
    "      \"description\": \"ensembl gene ID for the APMS protien\",\n",
    "      \"index\": 1,\n",
    "      \"valueURL\": \"http://edamontology.org/data_1033\",\n",
    "      \"type\": \"string\",\n",
    "      \"pattern\": \"^[A-Z0-9orf/-]*$|^ensembl:(?:ENSG[0-9]{11})(;?ENSG[0-9]{11})*$\"\n",
    "    },\n",
    "    \"bait\": {\n",
    "        \"description\": \"Boolean value indicating if this protien was a bait protien in APMS experiments\",\n",
    "        \"type\": \"boolean\",\n",
    "        \"index\": 3,\n",
    "        \"valueURL\": None\n",
    "    }\n",
    "  },\n",
    "  \"type\": \"object\",\n",
    "  \"additionalProperties\": False,\n",
    "  \"required\": [\"name\", \"represents\", \"bait\"],\n",
    "  \"separator\": \"\\t\",\n",
    "  \"header\": True,\n",
    "  \"examples\": []\n",
    "}\n",
    "\n",
    "created_schema = requests.post(\n",
    "    fairscape_host + 'schema',\n",
    "    json=s3\n",
    "    )\n",
    "\n",
    "print(created_schema.status_code)\n",
    "print(created_schema.content)"
   ]
  },
  {
   "cell_type": "code",
   "execution_count": 18,
   "metadata": {},
   "outputs": [
    {
     "data": {
      "text/plain": [
       "{'@id': 'ark:59852/schema-test1',\n",
       " '@type': 'evi:Schema',\n",
       " '@context': {'@vocab': 'https://schema.org/', 'evi': 'https://w3id.org/EVI#'},\n",
       " 'url': None,\n",
       " 'type': 'object',\n",
       " 'additionalProperties': False,\n",
       " 'required': ['name', 'represents', 'bait'],\n",
       " 'separator': '\\t',\n",
       " 'header': True,\n",
       " 'examples': [],\n",
       " 'name': 'CM4AI APMS Gene Node Attributes Schema',\n",
       " 'properties': {'name': {'description': 'Gene Symbol for APMS Data',\n",
       "   'index': 0,\n",
       "   'type': 'string',\n",
       "   'value_url': None,\n",
       "   'pattern': '^[A-Za-z0-9/-]*$',\n",
       "   'items': None,\n",
       "   'min_items': None,\n",
       "   'max_items': None,\n",
       "   'unique_items': None,\n",
       "   'valueURL': 'http://edamontology.org/data_1026'},\n",
       "  'represents': {'description': 'ensembl gene ID for the APMS protien',\n",
       "   'index': 1,\n",
       "   'type': 'string',\n",
       "   'value_url': None,\n",
       "   'pattern': '^[A-Z0-9orf/-]*$|^ensembl:(?:ENSG[0-9]{11})(;?ENSG[0-9]{11})*$',\n",
       "   'items': None,\n",
       "   'min_items': None,\n",
       "   'max_items': None,\n",
       "   'unique_items': None,\n",
       "   'valueURL': 'http://edamontology.org/data_1033'},\n",
       "  'bait': {'description': 'Boolean value indicating if this protien was a bait protien in APMS experiments',\n",
       "   'index': 3,\n",
       "   'type': 'boolean',\n",
       "   'value_url': None,\n",
       "   'pattern': None,\n",
       "   'items': None,\n",
       "   'min_items': None,\n",
       "   'max_items': None,\n",
       "   'unique_items': None,\n",
       "   'valueURL': None}}}"
      ]
     },
     "execution_count": 18,
     "metadata": {},
     "output_type": "execute_result"
    }
   ],
   "source": [
    "requests.get(fairscape_host + 'schema/' + created_schema.json()['created']['@id']).json()"
   ]
  },
  {
   "cell_type": "code",
   "execution_count": 19,
   "metadata": {},
   "outputs": [
    {
     "data": {
      "text/plain": [
       "'https://fairscape.net/ark:59852/schema-test1'"
      ]
     },
     "execution_count": 19,
     "metadata": {},
     "output_type": "execute_result"
    }
   ],
   "source": [
    "fairscape_host + created_schema.json()['created']['@id']"
   ]
  },
  {
   "cell_type": "code",
   "execution_count": null,
   "metadata": {},
   "outputs": [],
   "source": []
  },
  {
   "cell_type": "markdown",
   "metadata": {},
   "source": [
    "## ROCrate"
   ]
  },
  {
   "cell_type": "code",
   "execution_count": 11,
   "metadata": {},
   "outputs": [],
   "source": [
    "schema = {\n",
    "    \"@context\": {\n",
    "        \"@vocab\": \"https://schema.org/\",\n",
    "        \"EVI\": \"https://w3,org/EVI#\"\n",
    "    },\n",
    "    \"@id\": \"ark:59852/schema-predictive-modeling-izNjXSs\",\n",
    "    \"@type\": \"EVI:Schema\",\n",
    "    \"name\": \"PreMo RedCAP Schema\",\n",
    "    \"description\": \"Schema for predicitive modeling RedCAP DB.\",\n",
    "    \"properties\": {\n",
    "        \"subject_number\": {\n",
    "            \"description\": \"Subject Number\",\n",
    "            \"index\": 0,\n",
    "            \"type\": \"number\",\n",
    "            \"minimum\": 0.0,\n",
    "            \"maximum\": 99999.0\n",
    "        },\n",
    "        \"demograph_site_id\": {\n",
    "            \"description\": \"The variable demograph_site_id is a unique identifier used to associate demographic data with a specific collection site.\",\n",
    "            \"index\": 1,\n",
    "            \"type\": \"string\"\n",
    "        },\n",
    "        \"demograph_site_num\": {\n",
    "            \"description\": \"Site Number. UVA = 1, WU = 2, CU = 3, UAB = 4\",\n",
    "            \"index\": 2,\n",
    "            \"type\": \"string\"\n",
    "        },\n",
    "        \"vsdata_yn\": {\n",
    "            \"description\": \"Does this patient have a vital sign data file available for analysis? \",\n",
    "            \"index\": 3,\n",
    "            \"type\": \"boolean\"\n",
    "        },\n",
    "        \"demograph_birth_date\": {\n",
    "            \"description\": \"Birth Date\",\n",
    "            \"index\": 4,\n",
    "            \"type\": \"string\",\n",
    "            \"value-url\": \"https://schema.org/birthDate\"\n",
    "        },\n",
    "        \"demograph_birthtime\": {\n",
    "            \"description\": \"Time of birth\",\n",
    "            \"index\": 5,\n",
    "            \"type\": \"string\"\n",
    "        },\n",
    "        \"demograph_birth_ga_weeks\": {\n",
    "            \"description\": \"Gestational Age in Weeks at Birth\",\n",
    "            \"index\": 6,\n",
    "            \"type\": \"number\",\n",
    "            \"minimum\": 22.0,\n",
    "            \"maximum\": 39.0\n",
    "        },\n",
    "        \"demograph_birth_ga_days\": {\n",
    "            \"description\": \"Gestational Age days at Birth\",\n",
    "            \"index\": 7,\n",
    "            \"type\": \"number\",\n",
    "            \"minimum\": 0.0,\n",
    "            \"maximum\": 6.0\n",
    "        },\n",
    "        \"demograph_gender\": {\n",
    "            \"description\": \"Gender\",\n",
    "            \"index\": 8,\n",
    "            \"type\": \"string\",\n",
    "            \"pattern\": \"^(Female|Male)$\"\n",
    "        },\n",
    "        \"demograph_race\": {\n",
    "            \"description\": \"Race\",\n",
    "            \"index\": 9,\n",
    "            \"type\": \"string\",\n",
    "            \"pattern\": \"^(White\\\\ or\\\\ Caucasian|Black\\\\ or\\\\ African\\\\ American|Asian|American\\\\ Indian\\\\ or\\\\ Alaska\\\\ Native|Native\\\\ Hawaiian\\\\ or\\\\ Other\\\\ Pacific\\\\ Islander|Unknown/Not\\\\ Reported)$\"\n",
    "        },\n",
    "        \"demograph_ethnicity\": {\n",
    "            \"description\": \"Ethnicity:\",\n",
    "            \"index\": 10,\n",
    "            \"type\": \"string\",\n",
    "            \"pattern\": \"^(Hispanic\\\\ or\\\\ Latino|Non\\\\-Hispanic\\\\ or\\\\ Non\\\\-Latino|Unknown/Not\\\\ Reported)$\"\n",
    "        },\n",
    "        \"dem_adi\": {\n",
    "            \"description\": \"National ADI Percentile of the birth address\",\n",
    "            \"index\": 11,\n",
    "            \"type\": \"integer\",\n",
    "            \"minimum\": 0,\n",
    "            \"maximum\": 101\n",
    "        },\n",
    "        \"multiples\": {\n",
    "            \"description\": \"Multiple gestation: (twin, triplet, etc.) \",\n",
    "            \"index\": 12,\n",
    "            \"type\": \"boolean\"\n",
    "        },\n",
    "        \"multiple_id\": {\n",
    "            \"description\": \"Subject ID of first-born infant in multiple gestation:\",\n",
    "            \"index\": 13,\n",
    "            \"type\": \"number\"\n",
    "        },\n",
    "        \"delivery_birth_weight\": {\n",
    "            \"description\": \"Birth Weight (grams)\",\n",
    "            \"index\": 14,\n",
    "            \"type\": \"number\",\n",
    "            \"minimum\": 200.0,\n",
    "            \"maximum\": 5000.0\n",
    "        },\n",
    "        \"delivery_apgar_1_min\": {\n",
    "            \"description\": \"Apgar Score 1 Minute\",\n",
    "            \"index\": 15,\n",
    "            \"type\": \"number\",\n",
    "            \"minimum\": 0.0,\n",
    "            \"maximum\": 9.0,\n",
    "            \"value-url\": \"http://purl.bioontology.org/ontology/RCD/X76WK\"\n",
    "        },\n",
    "        \"delivery_apgar_5_min\": {\n",
    "            \"description\": \"Apgar Score 5 Minutes\",\n",
    "            \"index\": 16,\n",
    "            \"type\": \"number\",\n",
    "            \"value-url\": \"http://purl.bioontology.org/ontology/RCD/X76WK\"\n",
    "        },\n",
    "        \"delivery_apgar_10_min\": {\n",
    "            \"description\": \"Apgar Score 10 Minutes\",\n",
    "            \"index\": 17,\n",
    "            \"type\": \"number\",\n",
    "            \"value-url\": \"http://purl.bioontology.org/ontology/RCD/X76WK\"\n",
    "        },\n",
    "        \"delivery_steroid_dose\": {\n",
    "            \"description\": \"Did mother receive at least one dose of steroids prior to delivery? \",\n",
    "            \"index\": 18,\n",
    "            \"type\": \"boolean\"\n",
    "        },\n",
    "        \"delivery_mode\": {\n",
    "            \"description\": \"Mode of Delivery\",\n",
    "            \"index\": 19,\n",
    "            \"type\": \"string\",\n",
    "            \"pattern\": \"^(C\\\\-section|Vaginal\\\\ Delivery|Unknown)$\"\n",
    "        },\n",
    "        \"delivery_admin_type\": {\n",
    "            \"description\": \"Admission Type\",\n",
    "            \"index\": 20,\n",
    "            \"type\": \"string\",\n",
    "            \"pattern\": \"^(Inborn|Outborn|Unknown)$\"\n",
    "        },\n",
    "        \"demograph_admit_date\": {\n",
    "            \"description\": \"Admission Date\",\n",
    "            \"index\": 21,\n",
    "            \"type\": \"string\"\n",
    "        },\n",
    "        \"delivery_admit_age\": {\n",
    "            \"description\": \"Age at Admission (days)\",\n",
    "            \"index\": 22,\n",
    "            \"type\": \"string\"\n",
    "        },\n",
    "        \"eos_yn\": {\n",
    "            \"description\": \"Was a blood culture sent within 3 days of birth? \",\n",
    "            \"index\": 23,\n",
    "            \"type\": \"string\",\n",
    "            \"pattern\": \"^(Yes|No|Unknown)$\"\n",
    "        },\n",
    "        \"eos_positive\": {\n",
    "            \"description\": \"If yes, was the culture positive? \",\n",
    "            \"index\": 24,\n",
    "            \"type\": \"boolean\",\n",
    "            \"value-type\": \"http://purl.bioontology.org/ontology/RCD/X77bV\"\n",
    "        },\n",
    "        \"eos_organism\": {\n",
    "            \"description\": \"If positive what organism was present?\",\n",
    "            \"index\": 25,\n",
    "            \"type\": \"string\",\n",
    "            \"pattern\": \"^(S\\\\.\\\\ Epi\\\\ or\\\\ CONS|E\\\\.\\\\ coli|S\\\\.\\\\ Aureus|Group\\\\ B\\\\ Streptococcus\\\\ sp\\\\.|Klebsiella\\\\ sp\\\\.|Pseudomonas\\\\ sp\\\\.|Enterococcus\\\\ sp\\\\.|Enterobacter\\\\ sp\\\\.|Other)$\",\n",
    "            \"value-url\": \"http://purl.bioontology.org/ontology/RCD/X79pY\"\n",
    "        },\n",
    "        \"eos_organism_other\": {\n",
    "            \"description\": \"Organism if 'Other': \",\n",
    "            \"index\": 26,\n",
    "            \"type\": \"string\",\n",
    "            \"value-url\": \"http://purl.bioontology.org/ontology/RCD/X79pY\"\n",
    "        },\n",
    "        \"eos_abx_days\": {\n",
    "            \"description\": \"Number of consecutive days treated with antibiotics following a blood culture obtained for suspected EOS\",\n",
    "            \"index\": 27,\n",
    "            \"type\": \"integer\"\n",
    "        },\n",
    "        \"eos_contaminant\": {\n",
    "            \"description\": \"Was the positive culture result considered a contaminant? \",\n",
    "            \"index\": 28,\n",
    "            \"type\": \"string\",\n",
    "            \"pattern\": \"^(Yes|No|Unknown)$\"\n",
    "        },\n",
    "        \"los_num\": {\n",
    "            \"description\": \"Number of blood cultures sent AFTER 3 days\",\n",
    "            \"index\": 29,\n",
    "            \"type\": \"integer\"\n",
    "        },\n",
    "        \"ivh_grade\": {\n",
    "            \"description\": \"Highest grade IVH on any HUS, any side:\",\n",
    "            \"index\": 30,\n",
    "            \"type\": \"string\",\n",
    "            \"pattern\": \"^(0|1|2|3|4)$\"\n",
    "        },\n",
    "        \"bpd_36_weeks\": {\n",
    "            \"description\": \"Did the infant require supplemental oxygen at 36 weeks PMA? \",\n",
    "            \"index\": 31,\n",
    "            \"type\": \"string\",\n",
    "            \"pattern\": \"^(Yes|No|Unknown)$\"\n",
    "        },\n",
    "        \"rop_laser_avastin\": {\n",
    "            \"description\": \"Was the infant treated with laser and/or Avastin? \",\n",
    "            \"index\": 32,\n",
    "            \"type\": \"string\",\n",
    "            \"pattern\": \"^(Yes|No|Unknown)$\"\n",
    "        },\n",
    "        \"bayley_yn\": {\n",
    "            \"description\": \"Was a Bayley exam performed at 18-24 months old? \",\n",
    "            \"index\": 33,\n",
    "            \"type\": \"string\",\n",
    "            \"pattern\": \"^(No|Yes|Unknown)$\"\n",
    "        },\n",
    "        \"bayley_date\": {\n",
    "            \"description\": \"Date of Bayley Exam\",\n",
    "            \"index\": 34,\n",
    "            \"type\": \"string\"\n",
    "        },\n",
    "        \"bayley_version\": {\n",
    "            \"description\": \"Bayley exam version\",\n",
    "            \"index\": 35,\n",
    "            \"type\": \"string\",\n",
    "            \"pattern\": \"^(Bayley\\\\ III|Bayley\\\\ IV|Unknown)$\"\n",
    "        },\n",
    "        \"bayley_cog\": {\n",
    "            \"description\": \"Cognitive score\",\n",
    "            \"index\": 36,\n",
    "            \"type\": \"integer\"\n",
    "        },\n",
    "        \"bayeley_lang\": {\n",
    "            \"description\": \"Language score\",\n",
    "            \"index\": 37,\n",
    "            \"type\": \"integer\"\n",
    "        },\n",
    "        \"bayley_motor\": {\n",
    "            \"description\": \"Motor Score\",\n",
    "            \"index\": 38,\n",
    "            \"type\": \"integer\"\n",
    "        },\n",
    "        \"culture_date\": {\n",
    "            \"description\": \"Date blood culture drawn\",\n",
    "            \"index\": 39,\n",
    "            \"type\": \"string\"\n",
    "        },\n",
    "        \"culture_time\": {\n",
    "            \"description\": \"Time blood culture drawn\",\n",
    "            \"index\": 40,\n",
    "            \"type\": \"string\"\n",
    "        },\n",
    "        \"culture_age\": {\n",
    "            \"description\": \"Age at culture:\",\n",
    "            \"index\": 41,\n",
    "            \"type\": \"string\"\n",
    "        },\n",
    "        \"sep_ev1\": {\n",
    "            \"description\": \"Was the blood culture positive? \",\n",
    "            \"index\": 42,\n",
    "            \"type\": \"boolean\"\n",
    "        },\n",
    "        \"culture_result\": {\n",
    "            \"description\": \"Blood culture result\",\n",
    "            \"index\": 43,\n",
    "            \"type\": \"string\"\n",
    "        },\n",
    "        \"sep_ev1_blood_org_other\": {\n",
    "            \"description\": \"Organism if Other: \",\n",
    "            \"index\": 44,\n",
    "            \"type\": \"string\"\n",
    "        },\n",
    "        \"abx_days\": {\n",
    "            \"description\": \"Was this event treated with IV antibiotics for > or = 5 days? \",\n",
    "            \"index\": 45,\n",
    "            \"type\": \"boolean\"\n",
    "        },\n",
    "        \"abx_num\": {\n",
    "            \"description\": \"Number of consecutive antibiotic treatment days related to this blood culture event: \",\n",
    "            \"index\": 46,\n",
    "            \"type\": \"integer\"\n",
    "        },\n",
    "        \"culture_vent_yn\": {\n",
    "            \"description\": \"Was the infant on a ventilator at the time of this blood culture?\",\n",
    "            \"index\": 47,\n",
    "            \"type\": \"boolean\"\n",
    "        },\n",
    "        \"culture_pos_diag\": {\n",
    "            \"description\": \"Blood culture positive event diagnosis:\",\n",
    "            \"index\": 48,\n",
    "            \"type\": \"string\",\n",
    "            \"pattern\": \"^(Septicemia|Contaminant|Urosepsis|NEC\\\\ with\\\\ bacteremia|SIP\\\\ with\\\\ bacteremia|Meningitis\\\\ with\\\\ bacteremia|Pneumonia\\\\ with\\\\ bacteremia|Unknown|Other|Repeat\\\\ culture\\\\ on\\\\ antibiotics)$\"\n",
    "        },\n",
    "        \"culture_pos_diag_other\": {\n",
    "            \"description\": \"'Other' culture positive event diagnosis\",\n",
    "            \"index\": 49,\n",
    "            \"type\": \"string\"\n",
    "        },\n",
    "        \"culture_neg_diag\": {\n",
    "            \"description\": \"Blood culture negative event diagnosis: \",\n",
    "            \"index\": 50,\n",
    "            \"type\": \"string\",\n",
    "            \"pattern\": \"^(Clinical\\\\ sepsis|Sepsis\\\\ ruled\\\\ out|UTI|NEC|SIP|Pneumonia|Meningitis|Skin|Other|Unknown|Repeat\\\\ culture\\\\ on\\\\ antibiotics)$\"\n",
    "        },\n",
    "        \"culture_neg_diag_other\": {\n",
    "            \"description\": \"'Other' culture-negative event diagnosis: \",\n",
    "            \"index\": 51,\n",
    "            \"type\": \"string\"\n",
    "        },\n",
    "        \"nec_surgery\": {\n",
    "            \"description\": \"Was a surgical intervention performed? \",\n",
    "            \"index\": 52,\n",
    "            \"type\": \"boolean\"\n",
    "        },\n",
    "        \"nec_surgery_type\": {\n",
    "            \"description\": \"If \\\"Yes\\\", Type of Procedure\",\n",
    "            \"index\": 53,\n",
    "            \"type\": \"string\"\n",
    "        },\n",
    "        \"nec_surg_date\": {\n",
    "            \"description\": \"Date of Procedure: \",\n",
    "            \"index\": 54,\n",
    "            \"type\": \"string\"\n",
    "        },\n",
    "        \"sip_surgery\": {\n",
    "            \"description\": \"Was an surgical intervention performed? \",\n",
    "            \"index\": 55,\n",
    "            \"type\": \"boolean\"\n",
    "        },\n",
    "        \"sip_surgery_type\": {\n",
    "            \"description\": \"If Yes what type of procedure was used?\",\n",
    "            \"index\": 56,\n",
    "            \"type\": \"string\"\n",
    "        },\n",
    "        \"sip_surg_date\": {\n",
    "            \"description\": \"Date of procedure\",\n",
    "            \"index\": 57,\n",
    "            \"type\": \"string\"\n",
    "        },\n",
    "        \"other_culture_types\": {\n",
    "            \"description\": \"Other culture(s) sent related to this blood culture evaluation: \",\n",
    "            \"index\": 58,\n",
    "            \"type\": \"string\"\n",
    "        },\n",
    "        \"urine_result\": {\n",
    "            \"description\": \"Urine culture result: \",\n",
    "            \"index\": 59,\n",
    "            \"type\": \"string\",\n",
    "            \"pattern\": \"^(Negative\\\\ or\\\\ <\\\\ 10,000\\\\ CFU|S\\\\.\\\\ Epi\\\\ or\\\\ CONS|E\\\\.\\\\ coli|S\\\\.\\\\ Aureus|Group\\\\ B\\\\ Streptococcus\\\\ sp\\\\.|Klebsiella\\\\ sp\\\\.|Pseudomonas\\\\ sp\\\\.|Enterococcus\\\\ sp\\\\.|Enterobacter\\\\ sp\\\\.|Other)$\"\n",
    "        },\n",
    "        \"urine_other\": {\n",
    "            \"description\": \"Organism if urine culture result is 'other': \",\n",
    "            \"index\": 60,\n",
    "            \"type\": \"string\"\n",
    "        },\n",
    "        \"csf_result\": {\n",
    "            \"description\": \"CSF culture result: \",\n",
    "            \"index\": 61,\n",
    "            \"type\": \"string\",\n",
    "            \"pattern\": \"^(Negative|S\\\\.\\\\ Epi\\\\ or\\\\ CONS|E\\\\.\\\\ coli|S\\\\.\\\\ Aureus|Group\\\\ B\\\\ Streptococcus\\\\ sp\\\\.|Klebsiella\\\\ sp\\\\.|Pseudomonas\\\\ sp\\\\.|Enterococcus\\\\ sp\\\\.|Enterobacter\\\\ sp\\\\.|Other)$\"\n",
    "        },\n",
    "        \"csf_other\": {\n",
    "            \"description\": \"Organism if CSF result is 'other'\",\n",
    "            \"index\": 62,\n",
    "            \"type\": \"string\"\n",
    "        },\n",
    "        \"sputum_result\": {\n",
    "            \"description\": \"Sputum or tracheal aspirate result: \",\n",
    "            \"index\": 63,\n",
    "            \"type\": \"string\",\n",
    "            \"pattern\": \"^(Negative|S\\\\.\\\\ Epi\\\\ or\\\\ CONS|E\\\\.\\\\ coli|S\\\\.\\\\ Aureus|Group\\\\ B\\\\ Streptococcus\\\\ sp\\\\.|Klebsiella\\\\ sp\\\\.|Pseudomonas\\\\ sp\\\\.|Enterococcus\\\\ sp\\\\.|Enterobacter\\\\ sp\\\\.|Other)$\"\n",
    "        },\n",
    "        \"sputum_other\": {\n",
    "            \"description\": \"Organism if sputum culture result is 'other': \",\n",
    "            \"index\": 64,\n",
    "            \"type\": \"string\"\n",
    "        },\n",
    "        \"skin_result\": {\n",
    "            \"description\": \"Skin or wound culture result: \",\n",
    "            \"index\": 65,\n",
    "            \"type\": \"string\",\n",
    "            \"pattern\": \"^(Negative|S\\\\.\\\\ Epi\\\\ or\\\\ CONS|E\\\\.\\\\ coli|S\\\\.\\\\ Aureus|Group\\\\ B\\\\ Streptococcus\\\\ sp\\\\.|Klebsiella\\\\ sp\\\\.|Pseudomonas\\\\ sp\\\\.|Enterococcus\\\\ sp\\\\.|Enterobacter\\\\ sp\\\\.|Other)$\"\n",
    "        },\n",
    "        \"skin_other\": {\n",
    "            \"description\": \"Organism if skin culture result is 'other': \",\n",
    "            \"index\": 66,\n",
    "            \"type\": \"string\"\n",
    "        },\n",
    "        \"peritoneal_result\": {\n",
    "            \"description\": \"Peritoneal fluid culture result: \",\n",
    "            \"index\": 67,\n",
    "            \"type\": \"string\",\n",
    "            \"pattern\": \"^(Negative|S\\\\.\\\\ Epi\\\\ or\\\\ CONS|E\\\\.\\\\ coli|S\\\\.\\\\ Aureus|Group\\\\ B\\\\ Streptococcus\\\\ sp\\\\.|Klebsiella\\\\ sp\\\\.|Pseudomonas\\\\ sp\\\\.|Enterococcus\\\\ sp\\\\.|Enterobacter\\\\ sp\\\\.|Other)$\"\n",
    "        },\n",
    "        \"other_type\": {\n",
    "            \"description\": \"'Other' culture type sent: \",\n",
    "            \"index\": 68,\n",
    "            \"type\": \"string\"\n",
    "        },\n",
    "        \"other_result\": {\n",
    "            \"description\": \"Other type culture result: \",\n",
    "            \"index\": 69,\n",
    "            \"type\": \"string\"\n",
    "        },\n",
    "        \"viral_type\": {\n",
    "            \"description\": \"What viral studies were sent? \",\n",
    "            \"index\": 70,\n",
    "            \"type\": \"string\"\n",
    "        },\n",
    "        \"viral_result1\": {\n",
    "            \"description\": \"Respiratory virus PCR result: \",\n",
    "            \"index\": 71,\n",
    "            \"type\": \"string\",\n",
    "            \"pattern\": \"^(Positive|Negative|Unknown)$\",\n",
    "            \"value-url\": \"http://purl.allotrope.org/ontologies/result#AFR_0002279\"\n",
    "        },\n",
    "        \"viral_result_2\": {\n",
    "            \"description\": \"GI pathogen result: \",\n",
    "            \"index\": 72,\n",
    "            \"type\": \"string\",\n",
    "            \"pattern\": \"^(Positive|Negative|Unknown)$\"\n",
    "        },\n",
    "        \"viral_result_3\": {\n",
    "            \"description\": \"HSV PCR from CSF result: \",\n",
    "            \"index\": 73,\n",
    "            \"type\": \"string\",\n",
    "            \"pattern\": \"^(Positive|Negative|Unknown)$\",\n",
    "            \"value-url\": \"http://purl.bioontology.org/ontology/OMIM/MTHU060433\"\n",
    "        },\n",
    "        \"viral_result_4\": {\n",
    "            \"description\": \"Enterovirus PCR result: \",\n",
    "            \"index\": 74,\n",
    "            \"type\": \"string\",\n",
    "            \"pattern\": \"^(Positive|Negative|Unknown)$\"\n",
    "        },\n",
    "        \"viral_result_6\": {\n",
    "            \"description\": \"HSV skin and mucus membrane culture result: \",\n",
    "            \"index\": 75,\n",
    "            \"type\": \"string\",\n",
    "            \"pattern\": \"^(Positive|Negative|Unknown)$\"\n",
    "        },\n",
    "        \"viral_result_other\": {\n",
    "            \"description\": \"Other viral culture or PCR result: \",\n",
    "            \"index\": 76,\n",
    "            \"type\": \"string\",\n",
    "            \"pattern\": \"^(Positive|Negative|Unknown)$\"\n",
    "        },\n",
    "        \"disch_date\": {\n",
    "            \"description\": \"Date of hospital discharge: \",\n",
    "            \"index\": 77,\n",
    "            \"type\": \"string\"\n",
    "        },\n",
    "        \"died_yn\": {\n",
    "            \"description\": \"Did the infant die prior to NICU discharge? \",\n",
    "            \"index\": 78,\n",
    "            \"type\": \"string\",\n",
    "            \"pattern\": \"^(No|Yes|Unknown)$\"\n",
    "        },\n",
    "        \"disch_dispo\": {\n",
    "            \"description\": \"Discharge disposition: \",\n",
    "            \"index\": 79,\n",
    "            \"type\": \"string\",\n",
    "            \"pattern\": \"^(Home|Unknown|Transfer\\\\ to\\\\ outside\\\\ NICU|Transfer\\\\ to\\\\ outside\\\\ step\\\\-down|Transfer\\\\ within\\\\ hospital\\\\ to\\\\ PICU|Transfer\\\\ within\\\\ hospital\\\\ to\\\\ step\\\\-down)$\"\n",
    "        },\n",
    "        \"death_cause\": {\n",
    "            \"description\": \"Cause of death: \",\n",
    "            \"index\": 80,\n",
    "            \"type\": \"string\",\n",
    "            \"value-url\": \"http://purl.bioontology.org/ontology/LNC/LA10595-9\"\n",
    "        },\n",
    "        \"death_cause_other\": {\n",
    "            \"description\": \"Cause of death if 'other': \",\n",
    "            \"index\": 81,\n",
    "            \"type\": \"string\"\n",
    "        }\n",
    "    },\n",
    "    \"type\": \"object\",\n",
    "    \"additionalProperties\": True,\n",
    "    \"required\": [\n",
    "        \"subject_number\",\n",
    "        \"demograph_site_num\"\n",
    "    ],\n",
    "    \"seperator\": \",\",\n",
    "    \"header\": True,\n",
    "    \"examples\": []\n",
    "}"
   ]
  },
  {
   "cell_type": "code",
   "execution_count": 12,
   "metadata": {},
   "outputs": [
    {
     "data": {
      "text/plain": [
       "{'created': {'@id': 'ark:59852/schema-predictive-modeling-izNjXSs',\n",
       "  '@type': 'evi:Schema',\n",
       "  'name': 'PreMo RedCAP Schema'}}"
      ]
     },
     "execution_count": 12,
     "metadata": {},
     "output_type": "execute_result"
    }
   ],
   "source": [
    "import json\n",
    "import requests\n",
    "\n",
    "root_url = \"https://fairscape.net/\"\n",
    "create_user1 = requests.post(root_url + \"schema\", data=json.dumps(schema))\n",
    "create_user1.json()"
   ]
  },
  {
   "cell_type": "code",
   "execution_count": 13,
   "metadata": {},
   "outputs": [],
   "source": [
    "eg = {\n",
    "    \"@id\":\"ark:99999/sample-eg\",\n",
    "    \"@type\":\"EVI:EvidenceGraph\",\n",
    "    \"name\":\"Sample Evidence Graph\",\n",
    "    \"description\":\"Fake graph for testing\",\n",
    "    \"owner\":\"ark:99999/Me\",\n",
    "    \"@graph\":[\n",
    "    {\n",
    "    \"name\": \"Output Data\",\n",
    "    \"@type\": \"EVI:Dataset\",\n",
    "    \"description\": \"An example output from a Compuation.\",\n",
    "    \"@id\": \"Output Data\",\n",
    "    \"generatedBy\": {\n",
    "        \"name\": \"Fake Compuatation\",\n",
    "        \"@type\": \"EVI:Computation\",\n",
    "        \"@id\": \"Processing Compuation\",\n",
    "        \"description\": \"Processing computation.\",\n",
    "        \"usedDataset\": [\n",
    "            {\n",
    "                \"name\": \"Input Data\",\n",
    "                \"@type\": \"EVI:Dataset\",\n",
    "                \"description\": \"Fake Input Dataset.\",\n",
    "                \"@id\": \"ark:99999/Input-Data\"\n",
    "            }\n",
    "        ],\n",
    "        \"usedSoftware\": [\n",
    "            {\n",
    "                \"name\": \"Sample Software\",\n",
    "                \"@type\": \"EVI:Software\",\n",
    "                \"description\": \"Python processing script.\",\n",
    "                \"@id\": \"ark:99999/fake-script\"\n",
    "            }\n",
    "        ]\n",
    "    }\n",
    "}]}"
   ]
  },
  {
   "cell_type": "code",
   "execution_count": 14,
   "metadata": {},
   "outputs": [
    {
     "data": {
      "text/plain": [
       "{'created': {'@id': 'ark:99999/sample-eg', '@type': 'evi:EvidenceGraph'}}"
      ]
     },
     "execution_count": 14,
     "metadata": {},
     "output_type": "execute_result"
    }
   ],
   "source": [
    "create_eg = requests.post(root_url + \"evidencegraph\", data=json.dumps(eg))\n",
    "create_eg.json()"
   ]
  },
  {
   "cell_type": "code",
   "execution_count": 18,
   "metadata": {},
   "outputs": [
    {
     "data": {
      "text/plain": [
       "b'{\"created\":{\"@id\":\"ark:59852/rocrate-premo-rocrate-eVHFS456\",\"@type\":\"Dataset\",\"name\":\"PreMo ROCrate\"}}'"
      ]
     },
     "execution_count": 18,
     "metadata": {},
     "output_type": "execute_result"
    }
   ],
   "source": [
    "import json\n",
    "import requests\n",
    "from requests_toolbelt.multipart.encoder import MultipartEncoder\n",
    "\n",
    "root_url = \"https://fairscape.net/\"\n",
    "crate_path = '/Users/justinniestroy-admin/Documents/Round2/PreMO/premo_rocrate.zip'\n",
    "\n",
    "mp_encoder = MultipartEncoder(\n",
    "    fields={        \n",
    "        'file': ('premo_rocrate.zip', open(crate_path, 'rb'), 'application/zip')\n",
    "    }\n",
    ")\n",
    "\n",
    "# upload a rocrate to minio object store\n",
    "rocrate_transfer = requests.post(\n",
    "    url=root_url + 'rocrate/upload',\n",
    "    data=mp_encoder,                              \n",
    "    # The MultipartEncoder provides the content-type header with the boundary:\n",
    "    headers={'Content-Type': mp_encoder.content_type}\n",
    ")\n",
    "\n",
    "rocrate_transfer.content"
   ]
  },
  {
   "cell_type": "code",
   "execution_count": 20,
   "metadata": {},
   "outputs": [
    {
     "data": {
      "text/plain": [
       "'https://fairscape.net/ark:59852/rocrate-premo-rocrate-eVHFS456'"
      ]
     },
     "execution_count": 20,
     "metadata": {},
     "output_type": "execute_result"
    }
   ],
   "source": [
    "fairscape_host + rocrate_transfer.json()['created']['@id']"
   ]
  },
  {
   "cell_type": "code",
   "execution_count": null,
   "metadata": {},
   "outputs": [],
   "source": []
  }
 ],
 "metadata": {
  "kernelspec": {
   "display_name": "base",
   "language": "python",
   "name": "python3"
  },
  "language_info": {
   "codemirror_mode": {
    "name": "ipython",
    "version": 3
   },
   "file_extension": ".py",
   "mimetype": "text/x-python",
   "name": "python",
   "nbconvert_exporter": "python",
   "pygments_lexer": "ipython3",
   "version": "3.12.3"
  }
 },
 "nbformat": 4,
 "nbformat_minor": 2
}
